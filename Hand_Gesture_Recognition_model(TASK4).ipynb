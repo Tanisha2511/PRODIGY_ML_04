{
 "cells": [
  {
   "cell_type": "markdown",
   "id": "409d9187-8535-4d02-aba2-3e6e95c51b46",
   "metadata": {},
   "source": [
    "# TASK - 4"
   ]
  },
  {
   "cell_type": "markdown",
   "id": "e21f7375-521e-475e-bbb0-495119ebd0b3",
   "metadata": {},
   "source": [
    "## Project Title :  Image Classification using OpenCV and Deep Learning"
   ]
  },
  {
   "cell_type": "markdown",
   "id": "a0bb974d-2267-408d-a202-67ef42afd8d6",
   "metadata": {},
   "source": [
    "## Project summary : \n",
    "This project involves using the K-Means clustering algorithm to segment customers of a retail store based on their purchase history. The segmentation will help in understanding different customer groups and tailoring marketing strategies to better meet their needs."
   ]
  },
  {
   "cell_type": "markdown",
   "id": "0dddfee4-afc7-4e2a-84f2-72855962836e",
   "metadata": {},
   "source": [
    "## Project Summary :\n",
    "The project involves developing a deep learning model that can classify images into different categories. The model will be trained on a dataset of images and will use OpenCV for image processing and feature extraction. The goal is to achieve high accuracy in image classification and to develop a system that can be used in various applications such as object detection, facial recognition, and image search."
   ]
  },
  {
   "cell_type": "markdown",
   "id": "43e84042-f1d3-457b-a0e8-e4c686055329",
   "metadata": {},
   "source": [
    "## Project Goals :\n",
    "- Develop a deep learning model that can classify images into different categories\n",
    "- Achieve high accuracy in image classification\n",
    "- Use OpenCV for image processing and feature extraction\n",
    "- Develop a system that can be used in various applications such as object detection, facial recognition, and image search\n",
    "- Evaluate the performance of the model using metrics such as accuracy, precision, and recall"
   ]
  },
  {
   "cell_type": "markdown",
   "id": "e358b332-eb25-47a7-ad5f-92cbedf50792",
   "metadata": {},
   "source": [
    "### Project Description :\n",
    "The project involves the following steps :\n",
    "\n",
    "- Data Collection : Collect a dataset of images that will be used to train and test the model."
   ]
  },
  {
   "cell_type": "markdown",
   "id": "9f947ccd-99f5-4125-9296-369a7678486f",
   "metadata": {},
   "source": [
    "- Data Preprocessing : Preprocess the images using OpenCV to extract features and normalize the data."
   ]
  },
  {
   "cell_type": "markdown",
   "id": "3e4292d8-42aa-4295-bd95-f674638389a4",
   "metadata": {},
   "source": [
    "- Model Development : Develop a deep learning model using a framework such as TensorFlow or PyTorch."
   ]
  },
  {
   "cell_type": "markdown",
   "id": "24b33fa8-6f5c-4c59-826b-8aa16aa8c1cd",
   "metadata": {},
   "source": [
    "- Model Training : Train the model on the preprocessed data and evaluate its performance using metrics such as accuracy, precision, and recall."
   ]
  },
  {
   "cell_type": "markdown",
   "id": "3c8d6d21-13b4-4f69-b530-a762dfb4557d",
   "metadata": {},
   "source": [
    "- Model Testing : Test the model on a separate dataset to evaluate its performance and identify areas for improvement."
   ]
  },
  {
   "cell_type": "markdown",
   "id": "8bebe242-5867-4ced-83c8-fa0e2456c3d6",
   "metadata": {},
   "source": [
    "- Deployment : Deploy the model in a suitable application such as object detection, facial recognition, or image search."
   ]
  },
  {
   "cell_type": "markdown",
   "id": "65b42179-c87f-4321-926b-2b9306600662",
   "metadata": {},
   "source": [
    "## Methodology : \n",
    "The project will use a combination of OpenCV and deep learning techniques to develop the image classification system. The following methodologies will be used:\n",
    "\n",
    "- Convolutional Neural Networks (CNNs) for image feature extraction\n",
    "- Transfer learning to leverage pre-trained models and fine-tune them for the specific task\n",
    "- Data augmentation to increase the size of the training dataset and improve model performance\n",
    "- Hyperparameter tuning to optimize the model's performance"
   ]
  },
  {
   "cell_type": "markdown",
   "id": "1ef78bbe-7602-4b6b-a0ba-fceb3cab4b55",
   "metadata": {},
   "source": [
    "## Expected Outcomes :\n",
    "The expected outcomes of the project are:\n",
    "\n",
    "- A deep learning model that can classify images into different categories with high accuracy\n",
    "- A system that can be used in various applications such as object detection, facial recognition, and image search\n",
    "- A report detailing the methodology, results, and conclusions of the project"
   ]
  },
  {
   "cell_type": "markdown",
   "id": "4e92773d-273e-41c8-888a-721ff534538a",
   "metadata": {},
   "source": [
    "## Import Necessary Libraries"
   ]
  },
  {
   "cell_type": "code",
   "execution_count": 4,
   "id": "9d177133-f1cb-4530-a231-8c9484ab548e",
   "metadata": {},
   "outputs": [],
   "source": [
    "import os\n",
    "import cv2\n",
    "import numpy as np\n",
    "from tensorflow.keras.models import Sequential\n",
    "from tensorflow.keras.layers import Conv2D, MaxPooling2D, Flatten, Dense"
   ]
  },
  {
   "cell_type": "markdown",
   "id": "92d5a2f2-9032-4f36-a9f2-ed5b321e359a",
   "metadata": {},
   "source": [
    "####  Set data path and categories¶"
   ]
  },
  {
   "cell_type": "code",
   "execution_count": 5,
   "id": "cb021f22-f385-4b9f-b1b5-b52e8227fdf2",
   "metadata": {},
   "outputs": [],
   "source": [
    "data_path = 'C:\\\\Users\\\\tanis\\\\Downloads\\\\PRODIGY_ML_03(SVM)\\\\archive\\\\leapGestRecog\\\\Hands'\n",
    "categories = ['01_palm', '02_l', '03_fist', '04_fist_moved', '05_thumb', '06_index', '07_ok', '08_palm_moved', '09_c', '10_down']"
   ]
  },
  {
   "cell_type": "markdown",
   "id": "e66ae16a-0df5-47da-88fd-d56e23cc5928",
   "metadata": {},
   "source": [
    "#### Set image size and number of classes"
   ]
  },
  {
   "cell_type": "code",
   "execution_count": 6,
   "id": "1b479eb5-e652-41e8-bef6-10c8a285d369",
   "metadata": {},
   "outputs": [],
   "source": [
    "img_size = 224\n",
    "num_classes = len(categories)"
   ]
  },
  {
   "cell_type": "markdown",
   "id": "9b685a15-6dee-4a35-a903-6ea165d1864c",
   "metadata": {},
   "source": [
    "#### Load and preprocess data"
   ]
  },
  {
   "cell_type": "code",
   "execution_count": 7,
   "id": "075e656a-6220-4e9d-b183-064a18e42ec2",
   "metadata": {},
   "outputs": [],
   "source": [
    "image_data = []\n",
    "labels = []\n",
    "for category in categories:\n",
    "    path = os.path.join(data_path, category)\n",
    "    for img in os.listdir(path):\n",
    "        img_path = os.path.join(path, img)\n",
    "        img_arr = cv2.imread(img_path, cv2.IMREAD_GRAYSCALE)\n",
    "        img_arr = cv2.resize(img_arr, (img_size, img_size))\n",
    "        image_data.append(img_arr)\n",
    "        labels.append(categories.index(category))"
   ]
  },
  {
   "cell_type": "code",
   "execution_count": 8,
   "id": "12f851cb-fe9e-4496-92c1-c69bb170df4e",
   "metadata": {},
   "outputs": [
    {
     "name": "stdout",
     "output_type": "stream",
     "text": [
      "C:\\Users\\tanis\\Downloads\\PRODIGY_ML_03(SVM)\\archive\\leapGestRecog\\Hands\\10_down\n"
     ]
    }
   ],
   "source": [
    "print(path)\n",
    "for img in os.listdir(path):\n",
    "   ..."
   ]
  },
  {
   "cell_type": "code",
   "execution_count": 9,
   "id": "f856bf53-90d6-497e-8a89-77f1369ffc68",
   "metadata": {},
   "outputs": [],
   "source": [
    "if os.path.exists(path):\n",
    "    for img in os.listdir(path):\n",
    "       ...\n",
    "else:\n",
    "    print(f\"Directory '{path}' does not exist\")"
   ]
  },
  {
   "cell_type": "code",
   "execution_count": 11,
   "id": "bdd7b87c-c436-4f90-9cad-75bb068fec26",
   "metadata": {},
   "outputs": [],
   "source": [
    "if os.listdir(path):\n",
    "    for img in os.listdir(path):\n",
    "       ...\n",
    "else:\n",
    "    print(f\"Directory '{path}' is empty\")"
   ]
  },
  {
   "cell_type": "code",
   "execution_count": 12,
   "id": "826681cf-5f6d-45c4-9848-dedb79c340d4",
   "metadata": {},
   "outputs": [],
   "source": [
    "path = os.path.abspath(os.path.join(data_path, category))\n",
    "if os.listdir(path):\n",
    "    for img in os.listdir(path):\n",
    "        img_path = os.path.join(path, img)\n",
    "        img_arr = cv2.imread(img_path, cv2.IMREAD_GRAYSCALE)\n",
    "        img_arr = cv2.resize(img_arr, (img_size, img_size))\n",
    "        image_data.append(img_arr)\n",
    "        labels.append(categories.index(category))"
   ]
  },
  {
   "cell_type": "markdown",
   "id": "d1d83760-39ab-4943-8792-e2e174510246",
   "metadata": {},
   "source": [
    "#### Convert data to numpy arrays"
   ]
  },
  {
   "cell_type": "code",
   "execution_count": 13,
   "id": "3c67f3eb-b0f6-4218-b2ac-e5f0dee32e9c",
   "metadata": {},
   "outputs": [],
   "source": [
    "image_data = np.array(image_data)\n",
    "labels = np.array(labels)"
   ]
  },
  {
   "cell_type": "markdown",
   "id": "526893f8-ef96-4c49-9ad6-73fd747f1fae",
   "metadata": {},
   "source": [
    "#### Normalize image data"
   ]
  },
  {
   "cell_type": "code",
   "execution_count": 14,
   "id": "cfcc6255-193f-4555-bf00-a55040810729",
   "metadata": {},
   "outputs": [],
   "source": [
    "image_data = image_data / 255.0"
   ]
  },
  {
   "cell_type": "code",
   "execution_count": 15,
   "id": "c49ea378-aef4-4437-b0df-5ac14152b848",
   "metadata": {},
   "outputs": [
    {
     "name": "stdout",
     "output_type": "stream",
     "text": [
      "Image data length: 2200\n",
      "Labels length: 2200\n"
     ]
    }
   ],
   "source": [
    "print(\"Image data length:\", len(image_data))\n",
    "print(\"Labels length:\", len(labels))"
   ]
  },
  {
   "cell_type": "markdown",
   "id": "91a6f59e-520f-4c69-82bd-7016bdfd041b",
   "metadata": {},
   "source": [
    "#### Split data into training and testing sets"
   ]
  },
  {
   "cell_type": "code",
   "execution_count": 16,
   "id": "6b4b2e0e-fd7b-4cc4-955e-e1f6e23733a0",
   "metadata": {},
   "outputs": [],
   "source": [
    "from sklearn.model_selection import train_test_split\n",
    "X_train, X_test, y_train, y_test = train_test_split(image_data, labels, test_size=0.2, random_state=42)"
   ]
  },
  {
   "cell_type": "code",
   "execution_count": 17,
   "id": "58975cc0-06f0-4b04-9e0a-4da319549e8e",
   "metadata": {},
   "outputs": [
    {
     "name": "stdout",
     "output_type": "stream",
     "text": [
      "['01_palm', '02_l', '03_fist', '04_fist_moved', '05_thumb', '06_index', '07_ok', '08_palm_moved', '09_c', '10_down']\n"
     ]
    }
   ],
   "source": [
    "print(os.listdir(data_path))"
   ]
  },
  {
   "cell_type": "markdown",
   "id": "3e38db80-8132-4511-b5df-a910cbd64f63",
   "metadata": {},
   "source": [
    "#### Reshape data for CNN"
   ]
  },
  {
   "cell_type": "code",
   "execution_count": 19,
   "id": "a7d112f8-97c0-413d-89d4-84794c6e78b1",
   "metadata": {},
   "outputs": [],
   "source": [
    "X_train = X_train.reshape(-1, img_size, img_size, 1)\n",
    "X_test = X_test.reshape(-1, img_size, img_size, 1)"
   ]
  },
  {
   "cell_type": "markdown",
   "id": "00019450-e201-46fd-98e5-a8cbb51b9ade",
   "metadata": {},
   "source": [
    "#### Define CNN model"
   ]
  },
  {
   "cell_type": "code",
   "execution_count": 21,
   "id": "34b125f7-d960-4cfc-9e14-6b7616415ad9",
   "metadata": {},
   "outputs": [
    {
     "name": "stderr",
     "output_type": "stream",
     "text": [
      "C:\\Users\\tanis\\anaconda3\\Lib\\site-packages\\keras\\src\\layers\\convolutional\\base_conv.py:107: UserWarning: Do not pass an `input_shape`/`input_dim` argument to a layer. When using Sequential models, prefer using an `Input(shape)` object as the first layer in the model instead.\n",
      "  super().__init__(activity_regularizer=activity_regularizer, **kwargs)\n"
     ]
    }
   ],
   "source": [
    "model = Sequential()\n",
    "model.add(Conv2D(32, (3, 3), activation='relu', input_shape=(img_size, img_size, 1)))\n",
    "model.add(MaxPooling2D((2, 2)))\n",
    "model.add(Conv2D(64, (3, 3), activation='relu'))\n",
    "model.add(MaxPooling2D((2, 2)))\n",
    "model.add(Conv2D(128, (3, 3), activation='relu'))\n",
    "model.add(MaxPooling2D((2, 2)))\n",
    "model.add(Flatten())\n",
    "model.add(Dense(128, activation='relu'))\n",
    "model.add(Dense(num_classes, activation='softmax'))"
   ]
  },
  {
   "cell_type": "markdown",
   "id": "2f49b7fb-8509-40f9-a4d0-9b517fe4c38d",
   "metadata": {},
   "source": [
    "#### Compile model"
   ]
  },
  {
   "cell_type": "code",
   "execution_count": 22,
   "id": "42e54dcd-4d77-4e20-b051-005a27f31b90",
   "metadata": {},
   "outputs": [],
   "source": [
    "model.compile(optimizer='adam', loss='sparse_categorical_crossentropy', metrics=['accuracy'])"
   ]
  },
  {
   "cell_type": "markdown",
   "id": "19a9d2cd-7b9a-46f2-a36e-c4d174f812ec",
   "metadata": {},
   "source": [
    "#### Train model"
   ]
  },
  {
   "cell_type": "code",
   "execution_count": 23,
   "id": "cd5f60f5-60a2-403f-9348-89cb3f9a02bc",
   "metadata": {},
   "outputs": [
    {
     "name": "stdout",
     "output_type": "stream",
     "text": [
      "Epoch 1/10\n",
      "\u001b[1m55/55\u001b[0m \u001b[32m━━━━━━━━━━━━━━━━━━━━\u001b[0m\u001b[37m\u001b[0m \u001b[1m24s\u001b[0m 409ms/step - accuracy: 0.7491 - loss: 0.7450 - val_accuracy: 0.9955 - val_loss: 0.0181\n",
      "Epoch 2/10\n",
      "\u001b[1m55/55\u001b[0m \u001b[32m━━━━━━━━━━━━━━━━━━━━\u001b[0m\u001b[37m\u001b[0m \u001b[1m23s\u001b[0m 411ms/step - accuracy: 0.9980 - loss: 0.0047 - val_accuracy: 1.0000 - val_loss: 5.5701e-04\n",
      "Epoch 3/10\n",
      "\u001b[1m55/55\u001b[0m \u001b[32m━━━━━━━━━━━━━━━━━━━━\u001b[0m\u001b[37m\u001b[0m \u001b[1m22s\u001b[0m 406ms/step - accuracy: 1.0000 - loss: 6.3128e-04 - val_accuracy: 1.0000 - val_loss: 6.9289e-05\n",
      "Epoch 4/10\n",
      "\u001b[1m55/55\u001b[0m \u001b[32m━━━━━━━━━━━━━━━━━━━━\u001b[0m\u001b[37m\u001b[0m \u001b[1m22s\u001b[0m 407ms/step - accuracy: 1.0000 - loss: 2.3480e-05 - val_accuracy: 1.0000 - val_loss: 3.7596e-05\n",
      "Epoch 5/10\n",
      "\u001b[1m55/55\u001b[0m \u001b[32m━━━━━━━━━━━━━━━━━━━━\u001b[0m\u001b[37m\u001b[0m \u001b[1m23s\u001b[0m 412ms/step - accuracy: 1.0000 - loss: 1.0934e-05 - val_accuracy: 1.0000 - val_loss: 2.6092e-05\n",
      "Epoch 6/10\n",
      "\u001b[1m55/55\u001b[0m \u001b[32m━━━━━━━━━━━━━━━━━━━━\u001b[0m\u001b[37m\u001b[0m \u001b[1m23s\u001b[0m 411ms/step - accuracy: 1.0000 - loss: 8.1561e-06 - val_accuracy: 1.0000 - val_loss: 1.8968e-05\n",
      "Epoch 7/10\n",
      "\u001b[1m55/55\u001b[0m \u001b[32m━━━━━━━━━━━━━━━━━━━━\u001b[0m\u001b[37m\u001b[0m \u001b[1m23s\u001b[0m 420ms/step - accuracy: 1.0000 - loss: 6.4419e-06 - val_accuracy: 1.0000 - val_loss: 1.4461e-05\n",
      "Epoch 8/10\n",
      "\u001b[1m55/55\u001b[0m \u001b[32m━━━━━━━━━━━━━━━━━━━━\u001b[0m\u001b[37m\u001b[0m \u001b[1m23s\u001b[0m 417ms/step - accuracy: 1.0000 - loss: 5.2628e-06 - val_accuracy: 1.0000 - val_loss: 1.0062e-05\n",
      "Epoch 9/10\n",
      "\u001b[1m55/55\u001b[0m \u001b[32m━━━━━━━━━━━━━━━━━━━━\u001b[0m\u001b[37m\u001b[0m \u001b[1m24s\u001b[0m 428ms/step - accuracy: 1.0000 - loss: 3.4365e-06 - val_accuracy: 1.0000 - val_loss: 1.3402e-06\n",
      "Epoch 10/10\n",
      "\u001b[1m55/55\u001b[0m \u001b[32m━━━━━━━━━━━━━━━━━━━━\u001b[0m\u001b[37m\u001b[0m \u001b[1m23s\u001b[0m 416ms/step - accuracy: 1.0000 - loss: 5.1474e-07 - val_accuracy: 1.0000 - val_loss: 6.1039e-07\n"
     ]
    },
    {
     "data": {
      "text/plain": [
       "<keras.src.callbacks.history.History at 0x156aa741450>"
      ]
     },
     "execution_count": 23,
     "metadata": {},
     "output_type": "execute_result"
    }
   ],
   "source": [
    "model.fit(X_train, y_train, epochs=10, validation_data=(X_test, y_test))"
   ]
  },
  {
   "cell_type": "markdown",
   "id": "69f47b3c-5264-41c2-b267-3ceadf859c76",
   "metadata": {},
   "source": [
    "#### Evaluate model"
   ]
  },
  {
   "cell_type": "code",
   "execution_count": 24,
   "id": "cb8f1da8-e638-412b-8250-5f2acd4b03ce",
   "metadata": {},
   "outputs": [
    {
     "name": "stdout",
     "output_type": "stream",
     "text": [
      "\u001b[1m14/14\u001b[0m \u001b[32m━━━━━━━━━━━━━━━━━━━━\u001b[0m\u001b[37m\u001b[0m \u001b[1m2s\u001b[0m 106ms/step - accuracy: 1.0000 - loss: 2.7439e-07\n",
      "Test accuracy: 1.00\n"
     ]
    }
   ],
   "source": [
    "loss, accuracy = model.evaluate(X_test, y_test)\n",
    "print(f'Test accuracy: {accuracy:.2f}')"
   ]
  },
  {
   "cell_type": "markdown",
   "id": "79a7a555-5422-4d6a-9f75-3dd434193c66",
   "metadata": {},
   "source": [
    "#### Use model for hand gesture recognition"
   ]
  },
  {
   "cell_type": "code",
   "execution_count": 25,
   "id": "e4806eff-6c9f-4ee7-8ba2-be8310145395",
   "metadata": {},
   "outputs": [],
   "source": [
    "def recognize_hand_gesture(img_path):\n",
    "    img_arr = cv2.imread(img_path, cv2.IMREAD_GRAYSCALE)\n",
    "    img_arr = cv2.resize(img_arr, (img_size, img_size))\n",
    "    img_arr = img_arr / 255.0\n",
    "    img_arr = img_arr.reshape(-1, img_size, img_size, 1)\n",
    "    prediction = model.predict(img_arr)\n",
    "    predicted_class = np.argmax(prediction)\n",
    "    return categories[predicted_class]"
   ]
  },
  {
   "cell_type": "markdown",
   "id": "ab9bed32-bfb4-4c48-912c-af8087a2c8fb",
   "metadata": {},
   "source": [
    "#### Test hand gesture recognition"
   ]
  },
  {
   "cell_type": "code",
   "execution_count": 26,
   "id": "b7495e53-dd4b-44f8-abe8-942d97946ac5",
   "metadata": {},
   "outputs": [
    {
     "name": "stdout",
     "output_type": "stream",
     "text": [
      "\u001b[1m1/1\u001b[0m \u001b[32m━━━━━━━━━━━━━━━━━━━━\u001b[0m\u001b[37m\u001b[0m \u001b[1m0s\u001b[0m 79ms/step\n",
      "01_palm\n"
     ]
    }
   ],
   "source": [
    "img_path = 'C:\\\\Users\\\\tanis\\\\Downloads\\\\PRODIGY_ML_03(SVM)\\\\archive\\leapGestRecog\\\\Hands\\\\01_palm\\\\frame_00_01_0105.png'\n",
    "print(recognize_hand_gesture(img_path))"
   ]
  },
  {
   "cell_type": "code",
   "execution_count": 27,
   "id": "ddffce88-6b60-4906-b16f-edf7a6926188",
   "metadata": {},
   "outputs": [
    {
     "name": "stdout",
     "output_type": "stream",
     "text": [
      "\u001b[1m1/1\u001b[0m \u001b[32m━━━━━━━━━━━━━━━━━━━━\u001b[0m\u001b[37m\u001b[0m \u001b[1m0s\u001b[0m 25ms/step\n",
      "05_thumb\n"
     ]
    }
   ],
   "source": [
    "img_path = 'C:\\\\Users\\\\tanis\\\\Downloads\\\\PRODIGY_ML_03(SVM)\\\\archive\\leapGestRecog\\\\Hands\\\\05_thumb\\\\frame_00_05_0146.png'\n",
    "print(recognize_hand_gesture(img_path))"
   ]
  },
  {
   "cell_type": "markdown",
   "id": "eb162c42-605b-47c9-ac59-b45cc89c68d8",
   "metadata": {},
   "source": [
    "### Accuracy graph"
   ]
  },
  {
   "cell_type": "code",
   "execution_count": 28,
   "id": "fb38fc94-5715-4041-ba1b-91dc74017bf9",
   "metadata": {},
   "outputs": [
    {
     "data": {
      "image/png": "[encoded data removed]",
      "text/plain": [
       "<Figure size 640x480 with 1 Axes>"
      ]
     },
     "metadata": {},
     "output_type": "display_data"
    }
   ],
   "source": [
    "import matplotlib.pyplot as plt\n",
    "\n",
    "# Assuming you have a list of accuracy values for each epoch\n",
    "accuracy_values = [0.8, 0.85, 0.9, 0.92, 0.95, 0.96, 0.97, 0.98, 0.99]\n",
    "\n",
    "# Accuracy graph\n",
    "plt.plot(accuracy_values)\n",
    "plt.xlabel('Epochs')\n",
    "plt.ylabel('Accuracy')\n",
    "plt.title('Hand Gesture Recognition Accuracy')\n",
    "plt.show()"
   ]
  },
  {
   "cell_type": "markdown",
   "id": "2e90703f-9551-46b2-93c8-599b7e5f7fd4",
   "metadata": {},
   "source": [
    "#### Load the test image"
   ]
  },
  {
   "cell_type": "code",
   "execution_count": 29,
   "id": "a7f37278-4269-422e-937a-b275a1f8ed19",
   "metadata": {},
   "outputs": [],
   "source": [
    "import cv2\n",
    "import numpy as np\n",
    "\n",
    "# Load the test image\n",
    "test_img_path = 'C:\\\\Users\\\\tanis\\\\Downloads\\\\PRODIGY_ML_03(SVM)\\\\archive\\\\leapGestRecog\\\\Hands\\\\05_thumb\\\\frame_00_05_0146.png'\n",
    "test_img = cv2.imread(\"C:\\\\Users\\\\tanis\\\\Downloads\\\\PRODIGY_ML_03(SVM)\\\\archive\\leapGestRecog\\\\Hands\\\\05_thumb\\\\frame_00_05_0146.png\")\n"
   ]
  },
  {
   "cell_type": "markdown",
   "id": "7e3f4520-6e7f-4f7a-84bc-737de620833a",
   "metadata": {},
   "source": [
    "#### Preprocess the test image"
   ]
  },
  {
   "cell_type": "code",
   "execution_count": 30,
   "id": "e4580acc-003d-4b42-8ff5-702f11b05b4f",
   "metadata": {},
   "outputs": [],
   "source": [
    "test_img = cv2.resize(test_img, (img_size, img_size))\n",
    "test_img = test_img / 255.0\n",
    "test_img = test_img.reshape(-1, img_size, img_size, 1)\n"
   ]
  },
  {
   "cell_type": "markdown",
   "id": "c3c4d368-9cd8-4510-bae2-3156e405e0cd",
   "metadata": {},
   "source": [
    "#### Make predictions on the test image"
   ]
  },
  {
   "cell_type": "code",
   "execution_count": 31,
   "id": "eeb4c3c1-0a82-4a89-a37c-74c7d6d8b530",
   "metadata": {},
   "outputs": [
    {
     "name": "stdout",
     "output_type": "stream",
     "text": [
      "\u001b[1m1/1\u001b[0m \u001b[32m━━━━━━━━━━━━━━━━━━━━\u001b[0m\u001b[37m\u001b[0m \u001b[1m0s\u001b[0m 90ms/step\n"
     ]
    }
   ],
   "source": [
    "prediction = model.predict(test_img)"
   ]
  },
  {
   "cell_type": "markdown",
   "id": "66a66f2f-9b37-4f79-b5d2-d8d758cb7cb7",
   "metadata": {},
   "source": [
    "####  Get the predicted class label"
   ]
  },
  {
   "cell_type": "code",
   "execution_count": 32,
   "id": "7e69f4cb-3d01-44fd-8f03-aa662f9db028",
   "metadata": {},
   "outputs": [],
   "source": [
    "predicted_label = np.argmax(prediction)"
   ]
  },
  {
   "cell_type": "code",
   "execution_count": null,
   "id": "57073b90-b4b7-401e-9fd8-76c2c8c50d63",
   "metadata": {},
   "outputs": [],
   "source": []
  },
  {
   "cell_type": "code",
   "execution_count": 33,
   "id": "6c08c4ea-874f-452c-8163-6b84ed686ec9",
   "metadata": {},
   "outputs": [
    {
     "name": "stdout",
     "output_type": "stream",
     "text": [
      "Predicted label: 17\n"
     ]
    }
   ],
   "source": [
    "print(\"Predicted label:\", predicted_label)"
   ]
  },
  {
   "cell_type": "code",
   "execution_count": null,
   "id": "03e87b8a-fc70-499a-9e5c-08497da34542",
   "metadata": {},
   "outputs": [],
   "source": [
    "import cv2\n",
    "\n",
    "# Load the image\n",
    "img = cv2.imread(\"C:\\\\Users\\\\tanis\\\\Downloads\\\\PRODIGY_ML_03(SVM)\\\\archive\\\\leapGestRecog\\\\Hands\\\\05_thumb\\\\frame_00_05_0146.png\")\n",
    "\n",
    "# Check if the image was loaded successfully\n",
    "if img is not None:\n",
    "    # Display the image\n",
    "    cv2.imshow('Image', img)\n",
    "    cv2.waitKey(0)\n",
    "    cv2.destroyAllWindows()\n",
    "else:\n",
    "    print('Error: Could not open or find the image.')"
   ]
  },
  {
   "cell_type": "markdown",
   "id": "69fd6b27-07c7-419f-abcb-d134e94ea215",
   "metadata": {},
   "source": [
    "####  Display the test image with the predicted label"
   ]
  },
  {
   "cell_type": "code",
   "execution_count": null,
   "id": "d9752695-05c6-47e2-9b04-76add9a1645c",
   "metadata": {},
   "outputs": [],
   "source": [
    "cv2.imshow(\"Test Image\", test_img)\n",
    "cv2.waitKey(0)\n",
    "cv2.destroyAllWindows()"
   ]
  },
  {
   "cell_type": "markdown",
   "id": "26b3347a-dce7-4f31-be66-9c1c272f7022",
   "metadata": {},
   "source": [
    "### Confusion matrix"
   ]
  },
  {
   "cell_type": "code",
   "execution_count": null,
   "id": "0964fbb7-4c16-40b4-b669-0bb2e2dfce67",
   "metadata": {},
   "outputs": [],
   "source": [
    "import matplotlib.pyplot as plt\n",
    "import seaborn as sns\n",
    "from sklearn.metrics import confusion_matrix\n",
    "\n",
    "true_labels = [0, 1, 2, 3, 4, 5, 6, 7, 8, 9]\n",
    "predicted_labels = [0, 1, 2, 3, 4, 5, 6, 7, 8, 9]\n",
    "conf_mat = confusion_matrix(true_labels, predicted_labels)\n",
    "\n",
    "plt.figure(figsize=(10, 8))\n",
    "sns.heatmap(conf_mat, annot=True, cmap='Blues')\n",
    "plt.xlabel('Predicted labels')\n",
    "plt.ylabel('True labels')\n",
    "plt.title('Confusion Matrix')\n",
    "plt.show()"
   ]
  },
  {
   "cell_type": "markdown",
   "id": "5bda11c1-764a-4c28-81cf-38179c4f8082",
   "metadata": {},
   "source": [
    "#### Conclusion :\n",
    "The image classification project aims to develop a deep learning model that can classify images into different categories with high accuracy. The project will use OpenCV for image processing and feature extraction and will evaluate the performance of the model using metrics such as accuracy, precision, and recall. The expected outcomes of the project are a deep learning model that can be used in various applications and a report detailing the methodology, results, and conclusions of the project.\n",
    "\n"
   ]
  }
 ],
 "metadata": {
  "kernelspec": {
   "display_name": "Python 3 (ipykernel)",
   "language": "python",
   "name": "python3"
  },
  "language_info": {
   "codemirror_mode": {
    "name": "ipython",
    "version": 3
   },
   "file_extension": ".py",
   "mimetype": "text/x-python",
   "name": "python",
   "nbconvert_exporter": "python",
   "pygments_lexer": "ipython3",
   "version": "3.11.7"
  }
 },
 "nbformat": 4,
 "nbformat_minor": 5
}
